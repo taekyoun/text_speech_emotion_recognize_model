{
 "cells": [
  {
   "cell_type": "code",
   "execution_count": null,
   "id": "6ecb4653",
   "metadata": {},
   "outputs": [],
   "source": [
    "!pip install mxnet\n",
    "!pip install gluonnlp pandas tqdm\n",
    "!pip install sentencepiece\n",
    "!pip install transformers==3.0.2\n",
    "!pip install torch"
   ]
  },
  {
   "cell_type": "code",
   "execution_count": null,
   "id": "fd3904a8",
   "metadata": {},
   "outputs": [],
   "source": [
    "# 깃허브에서 KoBERT 파일 로드\n",
    "!pip install git+https://git@github.com/SKTBrain/KoBERT.git@master"
   ]
  },
  {
   "cell_type": "code",
   "execution_count": null,
   "id": "8812444f",
   "metadata": {},
   "outputs": [],
   "source": [
    "import torch\n",
    "from torch import nn\n",
    "import torch.nn.functional as F\n",
    "import torch.optim as optim\n",
    "from torch.utils.data import Dataset, DataLoader\n",
    "import gluonnlp as nlp\n",
    "import numpy as np\n",
    "from tqdm import tqdm, tqdm_notebook\n",
    "#kobert\n",
    "from kobert.utils import get_tokenizer\n",
    "from kobert.pytorch_kobert import get_pytorch_kobert_model\n",
    "\n",
    "#transformers\n",
    "from transformers import AdamW\n",
    "from transformers.optimization import get_cosine_schedule_with_warmup\n",
    "\n",
    "import pandas as pd\n",
    "import numpy as np\n",
    "\n",
    "\n",
    "#GPU 사용\n",
    "device = torch.device(\"cuda:0\")\n",
    "#BERT 모델, Vocabulary 불러오기\n",
    "bertmodel, vocab = get_pytorch_kobert_model()"
   ]
  },
  {
   "cell_type": "code",
   "execution_count": null,
   "id": "946ee151",
   "metadata": {},
   "outputs": [],
   "source": [
    "from google.colab import drive\n",
    "drive.mount('/content/drive')"
   ]
  },
  {
   "cell_type": "code",
   "execution_count": 1,
   "id": "a08992f6",
   "metadata": {},
   "outputs": [
    {
     "ename": "FileNotFoundError",
     "evalue": "[Errno 2] No such file or directory: '/content/drive/MyDrive/Colab Notebooks/data/sttEmotion.npz'",
     "output_type": "error",
     "traceback": [
      "\u001b[1;31m---------------------------------------------------------------------------\u001b[0m",
      "\u001b[1;31mFileNotFoundError\u001b[0m                         Traceback (most recent call last)",
      "\u001b[1;32m<ipython-input-1-e784e853a809>\u001b[0m in \u001b[0;36m<module>\u001b[1;34m\u001b[0m\n\u001b[0;32m      2\u001b[0m \u001b[1;32mimport\u001b[0m \u001b[0mnumpy\u001b[0m \u001b[1;32mas\u001b[0m \u001b[0mnp\u001b[0m\u001b[1;33m\u001b[0m\u001b[1;33m\u001b[0m\u001b[0m\n\u001b[0;32m      3\u001b[0m \u001b[1;33m\u001b[0m\u001b[0m\n\u001b[1;32m----> 4\u001b[1;33m \u001b[0mdata\u001b[0m \u001b[1;33m=\u001b[0m \u001b[0mnp\u001b[0m\u001b[1;33m.\u001b[0m\u001b[0mload\u001b[0m\u001b[1;33m(\u001b[0m\u001b[1;34m'/content/drive/MyDrive/Colab Notebooks/data/sttEmotion.npz'\u001b[0m\u001b[1;33m)\u001b[0m\u001b[1;33m\u001b[0m\u001b[1;33m\u001b[0m\u001b[0m\n\u001b[0m",
      "\u001b[1;32m~\\anaconda3\\envs\\keras1\\lib\\site-packages\\numpy\\lib\\npyio.py\u001b[0m in \u001b[0;36mload\u001b[1;34m(file, mmap_mode, allow_pickle, fix_imports, encoding)\u001b[0m\n\u001b[0;32m    414\u001b[0m             \u001b[0mown_fid\u001b[0m \u001b[1;33m=\u001b[0m \u001b[1;32mFalse\u001b[0m\u001b[1;33m\u001b[0m\u001b[1;33m\u001b[0m\u001b[0m\n\u001b[0;32m    415\u001b[0m         \u001b[1;32melse\u001b[0m\u001b[1;33m:\u001b[0m\u001b[1;33m\u001b[0m\u001b[1;33m\u001b[0m\u001b[0m\n\u001b[1;32m--> 416\u001b[1;33m             \u001b[0mfid\u001b[0m \u001b[1;33m=\u001b[0m \u001b[0mstack\u001b[0m\u001b[1;33m.\u001b[0m\u001b[0menter_context\u001b[0m\u001b[1;33m(\u001b[0m\u001b[0mopen\u001b[0m\u001b[1;33m(\u001b[0m\u001b[0mos_fspath\u001b[0m\u001b[1;33m(\u001b[0m\u001b[0mfile\u001b[0m\u001b[1;33m)\u001b[0m\u001b[1;33m,\u001b[0m \u001b[1;34m\"rb\"\u001b[0m\u001b[1;33m)\u001b[0m\u001b[1;33m)\u001b[0m\u001b[1;33m\u001b[0m\u001b[1;33m\u001b[0m\u001b[0m\n\u001b[0m\u001b[0;32m    417\u001b[0m             \u001b[0mown_fid\u001b[0m \u001b[1;33m=\u001b[0m \u001b[1;32mTrue\u001b[0m\u001b[1;33m\u001b[0m\u001b[1;33m\u001b[0m\u001b[0m\n\u001b[0;32m    418\u001b[0m \u001b[1;33m\u001b[0m\u001b[0m\n",
      "\u001b[1;31mFileNotFoundError\u001b[0m: [Errno 2] No such file or directory: '/content/drive/MyDrive/Colab Notebooks/data/sttEmotion.npz'"
     ]
    }
   ],
   "source": [
    "data_text = np.load('/content/drive/MyDrive/Colab Notebooks/Data/sttEmotionTrainTest.npz')\n",
    "data_params = np.load('/content/drive/MyDrive/Colab Notebooks/Data/speechEmotion1.npz')"
   ]
  },
  {
   "cell_type": "code",
   "execution_count": null,
   "id": "43fd94a3",
   "metadata": {},
   "outputs": [],
   "source": [
    "X_train_text=data_text['X_train']\n",
    "y_train_text=data_text['y_train']\n",
    "X_test_text=data_text['X_test']\n",
    "y_test_text=data_text['y_test']\n",
    "\n",
    "X_train_params=data_params['X_train']\n",
    "y_train_params=data_params['y_train']\n",
    "X_test_params=data_params['X_test']\n",
    "y_test_params=data_params['y_test']\n"
   ]
  },
  {
   "cell_type": "code",
   "execution_count": null,
   "id": "048a90a3",
   "metadata": {},
   "outputs": [],
   "source": [
    "import re\n",
    "\n",
    "def preprocess_sentence_kr(w):\n",
    "    w = w.strip()\n",
    "    w = re.sub(r\"[^0-9가-힣?.!,¿]+\", \" \", w) # \\n도 공백으로 대체해줌\n",
    "    w = w.strip()\n",
    "    return w\n"
   ]
  },
  {
   "cell_type": "code",
   "execution_count": null,
   "id": "1cab6a01",
   "metadata": {},
   "outputs": [],
   "source": [
    "DATA_COLUMN = \"document\"\n",
    "LABEL_COLUMN = \"label\""
   ]
  },
  {
   "cell_type": "code",
   "execution_count": null,
   "id": "e39bd5cd",
   "metadata": {},
   "outputs": [],
   "source": [
    "trainSet_text=[]\n",
    "for i in range(len(X_train_text)):\n",
    "    trainSet_text.append(preprocess_sentence_kr(X_train_text[i]))"
   ]
  },
  {
   "cell_type": "code",
   "execution_count": null,
   "id": "b254b4d9",
   "metadata": {},
   "outputs": [],
   "source": [
    "testSet_test=[]\n",
    "for i in range(len(y_test_text)):\n",
    "    testSet_test.append(preprocess_sentence_kr(X_test_text[i]))"
   ]
  },
  {
   "cell_type": "code",
   "execution_count": null,
   "id": "f384694e",
   "metadata": {},
   "outputs": [],
   "source": [
    "train_text = pd.DataFrame({DATA_COLUMN:trainSet_text,LABEL_COLUMN:y_train_text})\n",
    "test_text = pd.DataFrame({DATA_COLUMN:testSet_test,LABEL_COLUMN:y_test_text})"
   ]
  },
  {
   "cell_type": "code",
   "execution_count": null,
   "id": "c79bc231",
   "metadata": {},
   "outputs": [],
   "source": [
    "def DatasetList(dataFrame):\n",
    "    data_list = []\n",
    "    for q, label in zip(dataFrame[DATA_COLUMN], dataFrame[LABEL_COLUMN])  :\n",
    "        data = []\n",
    "        data.append(q)\n",
    "        data.append(str(label))\n",
    "\n",
    "        data_list.append(data)\n",
    "    return data_list"
   ]
  },
  {
   "cell_type": "code",
   "execution_count": null,
   "id": "6d08a4c1",
   "metadata": {},
   "outputs": [],
   "source": [
    "train_text = DatasetList(train_text)\n",
    "test_text=DatasetList(test_text)"
   ]
  },
  {
   "cell_type": "code",
   "execution_count": null,
   "id": "bd87eabc",
   "metadata": {},
   "outputs": [],
   "source": [
    "# BERT 모델에 들어가기 위한 dataset을 만들어주는 클래스\n",
    "class BERTDataset(Dataset):\n",
    "    def __init__(self, dataset, sent_idx, label_idx, bert_tokenizer, max_len,\n",
    "                 pad, pair,paramsData):\n",
    "        transform = nlp.data.BERTSentenceTransform(\n",
    "            bert_tokenizer, max_seq_length=max_len, pad=pad, pair=pair)\n",
    "\n",
    "        self.sentences = [transform([i[sent_idx]]) for i in dataset]\n",
    "        self.labels = [np.int32(i[label_idx]) for i in dataset]\n",
    "        # self.params =[np.int32(i) for i in paramsData]\n",
    "    def __getitem__(self, i):\n",
    "        return (self.sentences[i] + (self.labels[i], ))\n",
    "\n",
    "    def __len__(self):\n",
    "        return (len(self.labels))"
   ]
  },
  {
   "cell_type": "code",
   "execution_count": null,
   "id": "e699cd39",
   "metadata": {},
   "outputs": [],
   "source": [
    "# Setting parameters\n",
    "# 숫자를 조정해도 무방\n",
    "max_len = 64\n",
    "batch_size = 64\n",
    "warmup_ratio = 0.1\n",
    "num_epochs = 2\n",
    "max_grad_norm = 1\n",
    "log_interval = 200\n",
    "learning_rate =  5e-5"
   ]
  },
  {
   "cell_type": "code",
   "execution_count": null,
   "id": "bc7b21b8",
   "metadata": {},
   "outputs": [],
   "source": [
    "#토큰화\n",
    "tokenizer = get_tokenizer()\n",
    "tok = nlp.data.BERTSPTokenizer(tokenizer, vocab, lower=False)\n",
    "#패딩\n",
    "data_train_text = BERTDataset(train_text, 0, 1, tok, max_len, True, False,X_train_params)\n",
    "data_test_text = BERTDataset(test_text, 0, 1, tok, max_len, True, False,X_test_params)"
   ]
  },
  {
   "cell_type": "code",
   "execution_count": null,
   "id": "f3cae754",
   "metadata": {},
   "outputs": [],
   "source": [
    "#torch 형식의 dataset\n",
    "train_dataloader_text = torch.utils.data.DataLoader(data_train_text, batch_size=batch_size, num_workers=5)\n",
    "test_dataloader_text = torch.utils.data.DataLoader(data_test_text, batch_size=batch_size, num_workers=5)"
   ]
  },
  {
   "cell_type": "code",
   "execution_count": null,
   "id": "7c79601d",
   "metadata": {},
   "outputs": [],
   "source": [
    "X_train_params = X_train_params.reshape((453965,180,1,1))\n",
    "X_test_params = X_test_params.reshape((56248,180,1,1))"
   ]
  },
  {
   "cell_type": "code",
   "execution_count": null,
   "id": "23733454",
   "metadata": {},
   "outputs": [],
   "source": [
    "X_train_params_tensor = torch.utils.data.DataLoader(X_train_params, batch_size=batch_size, num_workers=5)\n",
    "X_test_params_tensor = torch.utils.data.DataLoader(X_test_params, batch_size=batch_size, num_workers=5)"
   ]
  },
  {
   "cell_type": "code",
   "execution_count": null,
   "id": "776e5dd9",
   "metadata": {},
   "outputs": [],
   "source": [
    "from sklearn.utils.extmath import softmax\n",
    "# Kobert _ CNN 통합 학습모델\n",
    "class BERTClassifier(nn.Module):\n",
    "    def __init__(self,\n",
    "                 bert,\n",
    "                 hidden_size = 768,\n",
    "                 num_classes=7,   ##클래스 수 조정##\n",
    "                 dr_rate=None,\n",
    "                 params=None):\n",
    "        super(BERTClassifier, self).__init__()\n",
    "        \n",
    "        self.bert = bert\n",
    "        self.dr_rate = dr_rate\n",
    "                 \n",
    "        self.classifier = nn.Linear(hidden_size , num_classes)\n",
    "        if dr_rate:\n",
    "            self.dropout = nn.Dropout(p=dr_rate)\n",
    "\n",
    "        self.cnn = nn.Sequential(\n",
    "            \n",
    "            nn.Conv2d(in_channels=180,out_channels=32,kernel_size=2,padding='same'),  # 인풋 채널 갯수\n",
    "            nn.BatchNorm2d(32),\n",
    "            nn.ReLU(),\n",
    "            # nn.MaxPool2d(kernel_size=2,stride=2),\n",
    "            nn.Dropout(p=0.2),\n",
    "            \n",
    "           \n",
    "            nn.Conv2d(in_channels=32,out_channels=768,kernel_size=3,padding='same'),\n",
    "            nn.BatchNorm2d(768),\n",
    "            nn.ReLU(),\n",
    "            # nn.MaxPool1d(kernel_size=2,stride=2),\n",
    "            nn.Dropout(p=0.2),\n",
    "            \n",
    "            \n",
    "            \n",
    "            # nn.Conv1d(in_channels=16, out_channels=16, kernel_size=4,padding='same'),\n",
    "            # nn.BatchNorm1d(16),\n",
    "            # nn.ReLU(),\n",
    "            # nn.MaxPool1d(kernel_size=2,stride=2),\n",
    "            # nn.Dropout(p=0.2),\n",
    "\n",
    "            # nn.Conv1d(in_channels=16, out_channels=16, kernel_size=4,padding='same'),\n",
    "            # nn.BatchNorm1d(16),\n",
    "            # nn.ReLU(),\n",
    "            # nn.MaxPool1d(kernel_size=2,stride=2),\n",
    "            # nn.Dropout(p=0.2),\n",
    "            \n",
    "           \n",
    "           \n",
    "            nn.Flatten(),\n",
    "                \n",
    "        )\n",
    "    \n",
    "    def gen_attention_mask(self, token_ids, valid_length):\n",
    "        attention_mask = torch.zeros_like(token_ids)\n",
    "        for i, v in enumerate(valid_length):\n",
    "            attention_mask[i][:v] = 1\n",
    "        return attention_mask.float()\n",
    "\n",
    "    def forward(self, token_ids, valid_length, segment_ids,cnnData):\n",
    "        attention_mask = self.gen_attention_mask(token_ids, valid_length)\n",
    "        \n",
    "        _, pooler = self.bert(input_ids = token_ids, token_type_ids = segment_ids.long(), attention_mask = attention_mask.float().to(token_ids.device))\n",
    "        if self.dr_rate:\n",
    "            out = self.dropout(pooler)\n",
    "            out_bert =nn.functional.softmax(out)\n",
    "            out_cnn =nn.functional.softmax(self.cnn(cnnData))\n",
    "            out_tatal = torch.cat((out_bert,out_cnn),dim=0)\n",
    "\n",
    "\n",
    "\n",
    "            \n",
    "        return self.classifier(out_tatal)"
   ]
  },
  {
   "cell_type": "code",
   "execution_count": null,
   "id": "af2c4e32",
   "metadata": {},
   "outputs": [],
   "source": [
    "model = BERTClassifier(bertmodel,dr_rate=0.5).to(device)"
   ]
  },
  {
   "cell_type": "code",
   "execution_count": null,
   "id": "e05b1b80",
   "metadata": {},
   "outputs": [],
   "source": [
    "# Prepare optimizer and schedule (linear warmup and decay)\n",
    "no_decay = ['bias', 'LayerNorm.weight']\n",
    "optimizer_grouped_parameters = [\n",
    "    {'params': [p for n, p in model.named_parameters() if not any(nd in n for nd in no_decay)], 'weight_decay': 0.01},\n",
    "    {'params': [p for n, p in model.named_parameters() if any(nd in n for nd in no_decay)], 'weight_decay': 0.0}\n",
    "]"
   ]
  },
  {
   "cell_type": "code",
   "execution_count": null,
   "id": "76a4015e",
   "metadata": {},
   "outputs": [],
   "source": [
    "optimizer = AdamW(optimizer_grouped_parameters, lr=learning_rate)\n",
    "loss_fn = nn.CrossEntropyLoss()"
   ]
  },
  {
   "cell_type": "code",
   "execution_count": null,
   "id": "772d5b00",
   "metadata": {},
   "outputs": [],
   "source": [
    "t_total = len(train_dataloader) * num_epochs\n",
    "warmup_step = int(t_total * warmup_ratio)"
   ]
  },
  {
   "cell_type": "code",
   "execution_count": null,
   "id": "a5c01cc1",
   "metadata": {},
   "outputs": [],
   "source": [
    "scheduler = get_cosine_schedule_with_warmup(optimizer, num_warmup_steps=warmup_step, num_training_steps=t_total)"
   ]
  },
  {
   "cell_type": "code",
   "execution_count": null,
   "id": "5dfca36c",
   "metadata": {},
   "outputs": [],
   "source": [
    "def calc_accuracy(X,Y):\n",
    "    max_vals, max_indices = torch.max(X, 1)\n",
    "    train_acc = (max_indices == Y).sum().data.cpu().numpy()/max_indices.size()[0]\n",
    "    return train_acc"
   ]
  },
  {
   "cell_type": "code",
   "execution_count": null,
   "id": "c4f5e99f",
   "metadata": {},
   "outputs": [],
   "source": [
    "# 학습모델 학습\n",
    "for e in range(num_epochs):\n",
    "    train_acc = 0.0\n",
    "    test_acc = 0.0\n",
    "    model.train()\n",
    "    for batch_id, ((token_ids, valid_length, segment_ids, label),X_train_param) in enumerate(tqdm_notebook(zip(train_dataloader_text,X_train_params_tensor))): \n",
    "        optimizer.zero_grad()\n",
    "        token_ids = token_ids.long().to(device)\n",
    "        segment_ids = segment_ids.long().to(device)\n",
    "        valid_length= valid_length\n",
    "        label = label.long().to(device)\n",
    "        X_train_param=X_train_param.float().to(device)\n",
    "      \n",
    "        out = model(token_ids, valid_length, segment_ids,X_train_param)                                                              ##\n",
    "        loss = loss_fn(out, label)\n",
    "        loss.backward()\n",
    "        torch.nn.utils.clip_grad_norm_(model.parameters(), max_grad_norm)\n",
    "        optimizer.step()\n",
    "        scheduler.step()  # Update learning rate schedule\n",
    "        train_acc += calc_accuracy(out, label)\n",
    "        if batch_id % log_interval == 0:\n",
    "            print(\"epoch {} batch id {} loss {} train acc {}\".format(e+1, batch_id+1, loss.data.cpu().numpy(), train_acc / (batch_id+1)))\n",
    "    print(\"epoch {} train acc {}\".format(e+1, train_acc / (batch_id+1)))\n",
    "    \n",
    "    model.eval()\n",
    "    for batch_id, ((token_ids, valid_length, segment_ids, label),X_test_param) in enumerate(tqdm_notebook(test_dataloader_text),X_test_params_tensor): #\n",
    "        token_ids = token_ids.long().to(device)\n",
    "        segment_ids = segment_ids.long().to(device)\n",
    "        valid_length= valid_length\n",
    "        X_test_param=X_test_param.long().to(device)\n",
    "        label = label.float().to(device)\n",
    "\n",
    "        out = model(token_ids, valid_length, segment_ids,X_train_param)                                                        ##\n",
    "        test_acc += calc_accuracy(out, label)\n",
    "    print(\"epoch {} test acc {}\".format(e+1, test_acc / (batch_id+1)))"
   ]
  }
 ],
 "metadata": {
  "kernelspec": {
   "display_name": "Python 3",
   "language": "python",
   "name": "python3"
  },
  "language_info": {
   "codemirror_mode": {
    "name": "ipython",
    "version": 3
   },
   "file_extension": ".py",
   "mimetype": "text/x-python",
   "name": "python",
   "nbconvert_exporter": "python",
   "pygments_lexer": "ipython3",
   "version": "3.6.13"
  }
 },
 "nbformat": 4,
 "nbformat_minor": 5
}
