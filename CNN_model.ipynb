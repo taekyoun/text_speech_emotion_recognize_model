{
 "cells": [
  {
   "cell_type": "code",
   "execution_count": 1,
   "id": "2059fe16",
   "metadata": {},
   "outputs": [
    {
     "data": {
      "text/plain": [
       "[PhysicalDevice(name='/physical_device:GPU:0', device_type='GPU')]"
      ]
     },
     "execution_count": 1,
     "metadata": {},
     "output_type": "execute_result"
    }
   ],
   "source": [
    "# gpu 할당 확인\n",
    "import tensorflow as tf\n",
    "\n",
    "tf.config.experimental.list_physical_devices('GPU')"
   ]
  },
  {
   "cell_type": "code",
   "execution_count": 2,
   "id": "f7f1cf5a",
   "metadata": {},
   "outputs": [],
   "source": [
    "# 이 아래에서부터 모든 셀 gpu로 할당\n",
    "import os\n",
    "\n",
    "os.environ[\"CUDA_VISIBLE_DEVICES\"]=\"0\"\n",
    "gpus = tf.config.experimental.list_physical_devices('GPU')\n",
    "if gpus:\n",
    "    try:\n",
    "        tf.config.experimental.set_memory_growth(gpus[0], True)\n",
    "    except RuntimeError as e:\n",
    "        print(e)"
   ]
  },
  {
   "cell_type": "code",
   "execution_count": 3,
   "id": "040ef513",
   "metadata": {},
   "outputs": [],
   "source": [
    "### General imports ###\n",
    "import os\n",
    "from glob import glob\n",
    "import pickle\n",
    "import numpy as np\n",
    "\n",
    "### Plot imports ###\n",
    "from IPython.display import Image\n",
    "import matplotlib.pyplot as plt\n",
    "\n",
    "### Time Distributed ConvNet imports ###\n",
    "import tensorflow as tf\n",
    "from tensorflow.keras.models import Sequential, Model\n",
    "from tensorflow.keras.layers import Input, Dense, Dropout, Activation, TimeDistributed, concatenate\n",
    "from tensorflow.keras.layers import Conv2D, MaxPooling2D, AveragePooling2D, BatchNormalization, LeakyReLU, Flatten\n",
    "from tensorflow.keras.layers import LSTM\n",
    "from tensorflow.keras.optimizers import Adam, SGD\n",
    "from tensorflow.keras.callbacks import EarlyStopping, ModelCheckpoint, ReduceLROnPlateau\n",
    "from tensorflow.keras import backend as K\n",
    "from keras.utils import np_utils\n",
    "from keras.utils import plot_model\n",
    "from sklearn.preprocessing import LabelEncoder\n",
    "from tqdm import tqdm\n",
    "import tensorflow as tf\n",
    "from transformers import *\n",
    "from tensorflow.keras.preprocessing.sequence import pad_sequences\n",
    "\n",
    "### Warning ###\n",
    "import warnings\n",
    "warnings.filterwarnings('ignore')"
   ]
  },
  {
   "cell_type": "code",
   "execution_count": null,
   "id": "04aae193",
   "metadata": {},
   "outputs": [],
   "source": [
    "data = np.load('./speechEmotion1.npz')\n",
    "X_train=data['X_train']\n",
    "y_train=data['y_train']\n",
    "y_test=data['y_test']\n",
    "X_test=data['X_test']"
   ]
  },
  {
   "cell_type": "code",
   "execution_count": null,
   "id": "35f000c7",
   "metadata": {},
   "outputs": [],
   "source": [
    "lb = LabelEncoder()\n",
    "y_train = np_utils.to_categorical(lb.fit_transform(np.ravel(y_train)))\n",
    "y_test = np_utils.to_categorical(lb.fit_transform(np.ravel(y_test)))\n"
   ]
  },
  {
   "cell_type": "code",
   "execution_count": null,
   "id": "1b82be58",
   "metadata": {},
   "outputs": [],
   "source": [
    "from sklearn.model_selection import train_test_split"
   ]
  },
  {
   "cell_type": "code",
   "execution_count": null,
   "id": "543f2982",
   "metadata": {},
   "outputs": [],
   "source": [
    "X_train, X_test, y_train, y_test = train_test_split(X_train,\n",
    "                                           y_train,random_state=42 ,test_size=0.25)\n",
    "                                                             # 랜덤 고정 숫자"
   ]
  },
  {
   "cell_type": "code",
   "execution_count": null,
   "id": "4bd95904",
   "metadata": {},
   "outputs": [],
   "source": [
    "# Reshape for convolution\n",
    "X_train = X_train.reshape(X_train.shape[0], 3, 6, 10,1)\n",
    "X_test = X_test.reshape(X_test.shape[0], 3, 6, 10,1)"
   ]
  },
  {
   "cell_type": "code",
   "execution_count": null,
   "id": "03c75f3a",
   "metadata": {},
   "outputs": [],
   "source": [
    "# Define two sets of inputs: MFCC and FBANK\n",
    "input_y = Input(shape=X_train.shape[1:])\n",
    "\n",
    "## First LFLB (local feature learning block)\n",
    "y = Conv2D(16, kernel_size=(3, 3), strides=(1, 1), padding='same')(input_y)\n",
    "y = BatchNormalization()(y)\n",
    "y = Activation('elu')(y)\n",
    "y = MaxPooling2D(pool_size=(2, 2), strides=(2, 2), padding='same')(y)\n",
    "y = Dropout(0.2)(y)     \n",
    "\n",
    "## Second LFLB (local feature learning block)\n",
    "y = Conv2D(32, kernel_size=(3, 3), strides=(1, 1), padding='same')(y)\n",
    "y = BatchNormalization()(y)\n",
    "y = Activation('elu')(y)\n",
    "y = MaxPooling2D(pool_size=(4, 4), strides=(4, 4), padding='same')(y)\n",
    "y = Dropout(0.2)(y)\n",
    "\n",
    "## Second LFLB (local feature learning block)\n",
    "y = Conv2D(16, kernel_size=(3, 3), strides=(1, 1), padding='same')(y)\n",
    "y = BatchNormalization()(y)\n",
    "y = Activation('elu')(y)\n",
    "y = MaxPooling2D(pool_size=(4, 4), strides=(4, 4), padding='same')(y)\n",
    "y = Dropout(0.2)(y)\n",
    "\n",
    "## Second LFLB (local feature learning block)\n",
    "y = Conv2D(32, kernel_size=(3, 3), strides=(1, 1), padding='same')(y)\n",
    "y = BatchNormalization()(y)\n",
    "y = Activation('elu')(y)\n",
    "y = MaxPooling2D(pool_size=(4, 4), strides=(4, 4), padding='same')(y)\n",
    "y = Dropout(0.2)(y)  \n",
    "\n",
    "## Flat\n",
    "y = Flatten()(y)                      \n",
    "                               \n",
    "# Apply 2 LSTM layer and one FC\n",
    "\n",
    "y = Dense(y_train.shape[1], activation='softmax', name='FC')(y)\n",
    "\n",
    "# Build final model\n",
    "model = Model(inputs=input_y, outputs=y)\n"
   ]
  },
  {
   "cell_type": "code",
   "execution_count": null,
   "id": "4fb034fa",
   "metadata": {},
   "outputs": [],
   "source": [
    "# Compile model\n",
    "model.compile(optimizer='adam', loss='categorical_crossentropy', metrics=['accuracy'])\n",
    "\n",
    "# # Save best model\n",
    "# best_model_save = ModelCheckpoint('./[CNN-LSTM]Model.hdf5', save_best_only=True, monitor='val_acc', mode='max')\n",
    "\n",
    "# # Early stopping\n",
    "early_stopping = EarlyStopping(monitor='val_accuracy', patience=30, verbose=1, mode='max')\n",
    "\n",
    "# Fit model\n",
    "history = model.fit(X_train, y_train, batch_size=64, epochs=100, validation_data=(X_test, y_test), callbacks=[early_stopping])"
   ]
  },
  {
   "cell_type": "code",
   "execution_count": null,
   "id": "66b37786",
   "metadata": {},
   "outputs": [],
   "source": [
    "model.save('voice_emotion_CnnModel1008.h5')"
   ]
  }
 ],
 "metadata": {
  "kernelspec": {
   "display_name": "Python 3",
   "language": "python",
   "name": "python3"
  },
  "language_info": {
   "codemirror_mode": {
    "name": "ipython",
    "version": 3
   },
   "file_extension": ".py",
   "mimetype": "text/x-python",
   "name": "python",
   "nbconvert_exporter": "python",
   "pygments_lexer": "ipython3",
   "version": "3.6.13"
  }
 },
 "nbformat": 4,
 "nbformat_minor": 5
}
